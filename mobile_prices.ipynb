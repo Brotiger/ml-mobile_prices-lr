{
 "cells": [
  {
   "cell_type": "code",
   "execution_count": 1,
   "id": "d62123e9",
   "metadata": {
    "execution": {
     "iopub.execute_input": "2023-09-10T17:27:27.573749Z",
     "iopub.status.busy": "2023-09-10T17:27:27.573331Z",
     "iopub.status.idle": "2023-09-10T17:27:28.060229Z",
     "shell.execute_reply": "2023-09-10T17:27:28.059016Z"
    },
    "papermill": {
     "duration": 0.501804,
     "end_time": "2023-09-10T17:27:28.063220",
     "exception": false,
     "start_time": "2023-09-10T17:27:27.561416",
     "status": "completed"
    },
    "tags": []
   },
   "outputs": [
    {
     "name": "stdout",
     "output_type": "stream",
     "text": [
      "dataset size:  (1836, 11)\n"
     ]
    },
    {
     "data": {
      "text/html": [
       "<div>\n",
       "<style scoped>\n",
       "    .dataframe tbody tr th:only-of-type {\n",
       "        vertical-align: middle;\n",
       "    }\n",
       "\n",
       "    .dataframe tbody tr th {\n",
       "        vertical-align: top;\n",
       "    }\n",
       "\n",
       "    .dataframe thead th {\n",
       "        text-align: right;\n",
       "    }\n",
       "</style>\n",
       "<table border=\"1\" class=\"dataframe\">\n",
       "  <thead>\n",
       "    <tr style=\"text-align: right;\">\n",
       "      <th></th>\n",
       "      <th>Phone Name</th>\n",
       "      <th>Rating ?/5</th>\n",
       "      <th>Number of Ratings</th>\n",
       "      <th>RAM</th>\n",
       "      <th>ROM/Storage</th>\n",
       "      <th>Back/Rare Camera</th>\n",
       "      <th>Front Camera</th>\n",
       "      <th>Battery</th>\n",
       "      <th>Processor</th>\n",
       "      <th>Price in INR</th>\n",
       "      <th>Date of Scraping</th>\n",
       "    </tr>\n",
       "  </thead>\n",
       "  <tbody>\n",
       "    <tr>\n",
       "      <th>0</th>\n",
       "      <td>POCO C50 (Royal Blue, 32 GB)</td>\n",
       "      <td>4.2</td>\n",
       "      <td>33,561</td>\n",
       "      <td>2 GB RAM</td>\n",
       "      <td>32 GB ROM</td>\n",
       "      <td>8MP Dual Camera</td>\n",
       "      <td>5MP Front Camera</td>\n",
       "      <td>5000 mAh</td>\n",
       "      <td>Mediatek Helio A22 Processor, Upto 2.0 GHz Pro...</td>\n",
       "      <td>₹5,649</td>\n",
       "      <td>2023-06-17</td>\n",
       "    </tr>\n",
       "    <tr>\n",
       "      <th>1</th>\n",
       "      <td>POCO M4 5G (Cool Blue, 64 GB)</td>\n",
       "      <td>4.2</td>\n",
       "      <td>77,128</td>\n",
       "      <td>4 GB RAM</td>\n",
       "      <td>64 GB ROM</td>\n",
       "      <td>50MP + 2MP</td>\n",
       "      <td>8MP Front Camera</td>\n",
       "      <td>5000 mAh</td>\n",
       "      <td>Mediatek Dimensity 700 Processor</td>\n",
       "      <td>₹11,999</td>\n",
       "      <td>2023-06-17</td>\n",
       "    </tr>\n",
       "    <tr>\n",
       "      <th>2</th>\n",
       "      <td>POCO C51 (Royal Blue, 64 GB)</td>\n",
       "      <td>4.3</td>\n",
       "      <td>15,175</td>\n",
       "      <td>4 GB RAM</td>\n",
       "      <td>64 GB ROM</td>\n",
       "      <td>8MP Dual Rear Camera</td>\n",
       "      <td>5MP Front Camera</td>\n",
       "      <td>5000 mAh</td>\n",
       "      <td>Helio G36 Processor</td>\n",
       "      <td>₹6,999</td>\n",
       "      <td>2023-06-17</td>\n",
       "    </tr>\n",
       "    <tr>\n",
       "      <th>3</th>\n",
       "      <td>POCO C55 (Cool Blue, 64 GB)</td>\n",
       "      <td>4.2</td>\n",
       "      <td>22,621</td>\n",
       "      <td>4 GB RAM</td>\n",
       "      <td>64 GB ROM</td>\n",
       "      <td>50MP Dual Rear Camera</td>\n",
       "      <td>5MP Front Camera</td>\n",
       "      <td>5000 mAh</td>\n",
       "      <td>Mediatek Helio G85 Processor</td>\n",
       "      <td>₹7,749</td>\n",
       "      <td>2023-06-17</td>\n",
       "    </tr>\n",
       "    <tr>\n",
       "      <th>4</th>\n",
       "      <td>POCO C51 (Power Black, 64 GB)</td>\n",
       "      <td>4.3</td>\n",
       "      <td>15,175</td>\n",
       "      <td>4 GB RAM</td>\n",
       "      <td>64 GB ROM</td>\n",
       "      <td>8MP Dual Rear Camera</td>\n",
       "      <td>5MP Front Camera</td>\n",
       "      <td>5000 mAh</td>\n",
       "      <td>Helio G36 Processor</td>\n",
       "      <td>₹6,999</td>\n",
       "      <td>2023-06-17</td>\n",
       "    </tr>\n",
       "  </tbody>\n",
       "</table>\n",
       "</div>"
      ],
      "text/plain": [
       "                      Phone Name  Rating ?/5 Number of Ratings       RAM  \\\n",
       "0   POCO C50 (Royal Blue, 32 GB)         4.2            33,561  2 GB RAM   \n",
       "1  POCO M4 5G (Cool Blue, 64 GB)         4.2            77,128  4 GB RAM   \n",
       "2   POCO C51 (Royal Blue, 64 GB)         4.3            15,175  4 GB RAM   \n",
       "3    POCO C55 (Cool Blue, 64 GB)         4.2            22,621  4 GB RAM   \n",
       "4  POCO C51 (Power Black, 64 GB)         4.3            15,175  4 GB RAM   \n",
       "\n",
       "  ROM/Storage       Back/Rare Camera      Front Camera   Battery  \\\n",
       "0   32 GB ROM        8MP Dual Camera  5MP Front Camera  5000 mAh   \n",
       "1   64 GB ROM             50MP + 2MP  8MP Front Camera  5000 mAh   \n",
       "2   64 GB ROM   8MP Dual Rear Camera  5MP Front Camera  5000 mAh   \n",
       "3   64 GB ROM  50MP Dual Rear Camera  5MP Front Camera  5000 mAh   \n",
       "4   64 GB ROM   8MP Dual Rear Camera  5MP Front Camera  5000 mAh   \n",
       "\n",
       "                                           Processor Price in INR  \\\n",
       "0  Mediatek Helio A22 Processor, Upto 2.0 GHz Pro...       ₹5,649   \n",
       "1                   Mediatek Dimensity 700 Processor      ₹11,999   \n",
       "2                                Helio G36 Processor       ₹6,999   \n",
       "3                       Mediatek Helio G85 Processor       ₹7,749   \n",
       "4                                Helio G36 Processor       ₹6,999   \n",
       "\n",
       "  Date of Scraping  \n",
       "0       2023-06-17  \n",
       "1       2023-06-17  \n",
       "2       2023-06-17  \n",
       "3       2023-06-17  \n",
       "4       2023-06-17  "
      ]
     },
     "execution_count": 1,
     "metadata": {},
     "output_type": "execute_result"
    }
   ],
   "source": [
    "import numpy as np\n",
    "import pandas as pd\n",
    "import os\n",
    "        \n",
    "TRAIN_DATASET_PATH = \"/kaggle/input/mobile-prices-2023/mobile_prices_2023.csv\"\n",
    "dataset = pd.read_csv(TRAIN_DATASET_PATH)\n",
    "\n",
    "print(\"dataset size: \", dataset.shape)\n",
    "dataset.head()"
   ]
  },
  {
   "cell_type": "code",
   "execution_count": 2,
   "id": "d132e7e1",
   "metadata": {
    "execution": {
     "iopub.execute_input": "2023-09-10T17:27:28.083664Z",
     "iopub.status.busy": "2023-09-10T17:27:28.083270Z",
     "iopub.status.idle": "2023-09-10T17:27:28.091925Z",
     "shell.execute_reply": "2023-09-10T17:27:28.090429Z"
    },
    "papermill": {
     "duration": 0.021861,
     "end_time": "2023-09-10T17:27:28.094518",
     "exception": false,
     "start_time": "2023-09-10T17:27:28.072657",
     "status": "completed"
    },
    "tags": []
   },
   "outputs": [
    {
     "data": {
      "text/plain": [
       "Phone Name            object\n",
       "Rating ?/5           float64\n",
       "Number of Ratings     object\n",
       "RAM                   object\n",
       "ROM/Storage           object\n",
       "Back/Rare Camera      object\n",
       "Front Camera          object\n",
       "Battery               object\n",
       "Processor             object\n",
       "Price in INR          object\n",
       "Date of Scraping      object\n",
       "dtype: object"
      ]
     },
     "execution_count": 2,
     "metadata": {},
     "output_type": "execute_result"
    }
   ],
   "source": [
    "dataset.dtypes"
   ]
  },
  {
   "cell_type": "code",
   "execution_count": 3,
   "id": "d23cceb3",
   "metadata": {
    "execution": {
     "iopub.execute_input": "2023-09-10T17:27:28.115411Z",
     "iopub.status.busy": "2023-09-10T17:27:28.114979Z",
     "iopub.status.idle": "2023-09-10T17:27:28.131020Z",
     "shell.execute_reply": "2023-09-10T17:27:28.129719Z"
    },
    "papermill": {
     "duration": 0.029374,
     "end_time": "2023-09-10T17:27:28.133424",
     "exception": false,
     "start_time": "2023-09-10T17:27:28.104050",
     "status": "completed"
    },
    "tags": []
   },
   "outputs": [
    {
     "name": "stdout",
     "output_type": "stream",
     "text": [
      "Date of Scraping unqiue values: ['2023-06-17']\n",
      "Battery unqiue units of measurement: ['mAh' nan]\n"
     ]
    }
   ],
   "source": [
    "print('Date of Scraping unqiue values:', dataset['Date of Scraping'].unique())\n",
    "print('Battery unqiue units of measurement:', dataset['Battery'].str.slice(-3).unique())"
   ]
  },
  {
   "cell_type": "code",
   "execution_count": 4,
   "id": "5ccc961a",
   "metadata": {
    "execution": {
     "iopub.execute_input": "2023-09-10T17:27:28.155242Z",
     "iopub.status.busy": "2023-09-10T17:27:28.154852Z",
     "iopub.status.idle": "2023-09-10T17:27:28.162588Z",
     "shell.execute_reply": "2023-09-10T17:27:28.161449Z"
    },
    "papermill": {
     "duration": 0.021919,
     "end_time": "2023-09-10T17:27:28.165226",
     "exception": false,
     "start_time": "2023-09-10T17:27:28.143307",
     "status": "completed"
    },
    "tags": []
   },
   "outputs": [
    {
     "name": "stdout",
     "output_type": "stream",
     "text": [
      "175\n",
      "34\n",
      "333\n"
     ]
    }
   ],
   "source": [
    "print(len(dataset['Back/Rare Camera'].unique()))\n",
    "print(len(dataset['Front Camera'].unique()))\n",
    "print(len(dataset['Processor'].unique()))"
   ]
  },
  {
   "cell_type": "code",
   "execution_count": 5,
   "id": "d882690c",
   "metadata": {
    "execution": {
     "iopub.execute_input": "2023-09-10T17:27:28.187272Z",
     "iopub.status.busy": "2023-09-10T17:27:28.186868Z",
     "iopub.status.idle": "2023-09-10T17:27:28.200309Z",
     "shell.execute_reply": "2023-09-10T17:27:28.199462Z"
    },
    "papermill": {
     "duration": 0.027602,
     "end_time": "2023-09-10T17:27:28.202942",
     "exception": false,
     "start_time": "2023-09-10T17:27:28.175340",
     "status": "completed"
    },
    "tags": []
   },
   "outputs": [],
   "source": [
    "dataset['Front Camera'] = dataset['Front Camera'].str.extract('(\\d+)')"
   ]
  },
  {
   "cell_type": "code",
   "execution_count": 6,
   "id": "738b2e58",
   "metadata": {
    "execution": {
     "iopub.execute_input": "2023-09-10T17:27:28.224203Z",
     "iopub.status.busy": "2023-09-10T17:27:28.223841Z",
     "iopub.status.idle": "2023-09-10T17:27:28.262437Z",
     "shell.execute_reply": "2023-09-10T17:27:28.261560Z"
    },
    "papermill": {
     "duration": 0.052184,
     "end_time": "2023-09-10T17:27:28.264973",
     "exception": false,
     "start_time": "2023-09-10T17:27:28.212789",
     "status": "completed"
    },
    "tags": []
   },
   "outputs": [],
   "source": [
    "# Перевод ROM/Storage в KB\n",
    "dataset['ROM/Storage'] = dataset['ROM/Storage'].str.replace('ROM', '')\n",
    "dataset['ROM/Storage'] = dataset['ROM/Storage'].where(dataset['ROM/Storage'].str.match('\\d+\\s(GB|MB|KB)'), np.nan).str.strip()\n",
    "dataset['ROM/Storage value'] = dataset['ROM/Storage'].str.extract('(\\d+)')\n",
    "dataset['ROM/Storage union'] = dataset['ROM/Storage'].str.extract('([A-Z]+)')\n",
    "dataset.loc[dataset['ROM/Storage union'] == 'GB', 'ROM/Storage value'] = dataset.loc[dataset['ROM/Storage union'] == 'GB', 'ROM/Storage value'].astype(int) * 1024 * 1024\n",
    "dataset.loc[dataset['ROM/Storage union'] == 'MB', 'ROM/Storage value'] = dataset.loc[dataset['ROM/Storage union'] == 'MB', 'ROM/Storage value'].astype(int) * 1024\n",
    "dataset.loc[dataset['ROM/Storage union'] == 'KB', 'ROM/Storage value'] = dataset.loc[dataset['ROM/Storage union'] == 'KB', 'ROM/Storage value'].astype(int)\n",
    "dataset['ROM/Storage'] = dataset['ROM/Storage value']\n",
    "dataset = dataset.drop(['ROM/Storage union', 'ROM/Storage value'], axis=1)"
   ]
  },
  {
   "cell_type": "code",
   "execution_count": 7,
   "id": "ab3bea0a",
   "metadata": {
    "execution": {
     "iopub.execute_input": "2023-09-10T17:27:28.286794Z",
     "iopub.status.busy": "2023-09-10T17:27:28.286389Z",
     "iopub.status.idle": "2023-09-10T17:27:28.323044Z",
     "shell.execute_reply": "2023-09-10T17:27:28.321923Z"
    },
    "papermill": {
     "duration": 0.050779,
     "end_time": "2023-09-10T17:27:28.325778",
     "exception": false,
     "start_time": "2023-09-10T17:27:28.274999",
     "status": "completed"
    },
    "tags": []
   },
   "outputs": [],
   "source": [
    "# Перевод RAM в MB\n",
    "dataset['RAM'] = dataset['RAM'].str.replace('ROM', '')\n",
    "dataset['RAM'] = dataset['RAM'].str.replace('RAM', '')\n",
    "dataset['RAM'] = dataset['RAM'].where(dataset['RAM'].str.match('\\d+\\s(GB|MB|TB)'), np.nan).str.strip()\n",
    "dataset['RAM value'] = dataset['RAM'].str.extract('(\\d+)')\n",
    "dataset['RAM union'] = dataset['RAM'].str.extract('([A-Z]+)')\n",
    "dataset.loc[dataset['RAM union'] == 'TB', 'RAM value'] = dataset.loc[dataset['RAM union'] == 'TB', 'RAM value'].astype(int) * 1024 * 1024\n",
    "dataset.loc[dataset['RAM union'] == 'GB', 'RAM value'] = dataset.loc[dataset['RAM union'] == 'GB', 'RAM value'].astype(int) * 1024\n",
    "dataset.loc[dataset['RAM union'] == 'MB', 'RAM value'] = dataset.loc[dataset['RAM union'] == 'MB', 'RAM value'].astype(int)\n",
    "dataset['RAM'] = dataset['RAM value']\n",
    "dataset = dataset.drop(['RAM union', 'RAM value'], axis=1)"
   ]
  },
  {
   "cell_type": "code",
   "execution_count": 8,
   "id": "a80007a6",
   "metadata": {
    "execution": {
     "iopub.execute_input": "2023-09-10T17:27:28.346909Z",
     "iopub.status.busy": "2023-09-10T17:27:28.346523Z",
     "iopub.status.idle": "2023-09-10T17:27:28.357602Z",
     "shell.execute_reply": "2023-09-10T17:27:28.356591Z"
    },
    "papermill": {
     "duration": 0.024312,
     "end_time": "2023-09-10T17:27:28.359963",
     "exception": false,
     "start_time": "2023-09-10T17:27:28.335651",
     "status": "completed"
    },
    "tags": []
   },
   "outputs": [],
   "source": [
    "dataset['Back/Rare Camera'] = dataset['Back/Rare Camera'].str.extract('(\\d+)MP')"
   ]
  },
  {
   "cell_type": "code",
   "execution_count": 9,
   "id": "eb3d4a04",
   "metadata": {
    "execution": {
     "iopub.execute_input": "2023-09-10T17:27:28.381845Z",
     "iopub.status.busy": "2023-09-10T17:27:28.381446Z",
     "iopub.status.idle": "2023-09-10T17:27:28.398421Z",
     "shell.execute_reply": "2023-09-10T17:27:28.397570Z"
    },
    "papermill": {
     "duration": 0.030468,
     "end_time": "2023-09-10T17:27:28.400867",
     "exception": false,
     "start_time": "2023-09-10T17:27:28.370399",
     "status": "completed"
    },
    "tags": []
   },
   "outputs": [],
   "source": [
    "dataset['Battery'] = dataset['Battery'].str.extract('(\\d+)')\n",
    "dataset['Price in INR'] = dataset['Price in INR'].str.slice(1).str.replace(',', '').astype(int)\n",
    "dataset['Number of Ratings'] = dataset['Number of Ratings'].str.replace(',', '').astype(int)"
   ]
  },
  {
   "cell_type": "code",
   "execution_count": 10,
   "id": "47892ced",
   "metadata": {
    "execution": {
     "iopub.execute_input": "2023-09-10T17:27:28.422423Z",
     "iopub.status.busy": "2023-09-10T17:27:28.421829Z",
     "iopub.status.idle": "2023-09-10T17:27:28.429563Z",
     "shell.execute_reply": "2023-09-10T17:27:28.428435Z"
    },
    "papermill": {
     "duration": 0.021483,
     "end_time": "2023-09-10T17:27:28.432131",
     "exception": false,
     "start_time": "2023-09-10T17:27:28.410648",
     "status": "completed"
    },
    "tags": []
   },
   "outputs": [],
   "source": [
    "drop_cols = [\n",
    "    'Phone Name',\n",
    "    'Date of Scraping',\n",
    "    'Processor',\n",
    "]\n",
    "\n",
    "dataset = dataset.drop(drop_cols, axis=1)"
   ]
  },
  {
   "cell_type": "code",
   "execution_count": 11,
   "id": "d2fe3111",
   "metadata": {
    "execution": {
     "iopub.execute_input": "2023-09-10T17:27:28.454478Z",
     "iopub.status.busy": "2023-09-10T17:27:28.453572Z",
     "iopub.status.idle": "2023-09-10T17:27:28.463401Z",
     "shell.execute_reply": "2023-09-10T17:27:28.462098Z"
    },
    "papermill": {
     "duration": 0.023554,
     "end_time": "2023-09-10T17:27:28.465692",
     "exception": false,
     "start_time": "2023-09-10T17:27:28.442138",
     "status": "completed"
    },
    "tags": []
   },
   "outputs": [
    {
     "name": "stdout",
     "output_type": "stream",
     "text": [
      "Nan cols: ['RAM', 'ROM/Storage', 'Back/Rare Camera', 'Front Camera', 'Battery']\n"
     ]
    }
   ],
   "source": [
    "nan_cols = dataset.columns[dataset.isna().any()].tolist()\n",
    "print(\"Nan cols:\", nan_cols)"
   ]
  },
  {
   "cell_type": "code",
   "execution_count": 12,
   "id": "ac93e44a",
   "metadata": {
    "execution": {
     "iopub.execute_input": "2023-09-10T17:27:28.486676Z",
     "iopub.status.busy": "2023-09-10T17:27:28.486046Z",
     "iopub.status.idle": "2023-09-10T17:27:30.051978Z",
     "shell.execute_reply": "2023-09-10T17:27:30.050831Z"
    },
    "papermill": {
     "duration": 1.580046,
     "end_time": "2023-09-10T17:27:30.055269",
     "exception": false,
     "start_time": "2023-09-10T17:27:28.475223",
     "status": "completed"
    },
    "tags": []
   },
   "outputs": [],
   "source": [
    "from sklearn.impute import SimpleImputer\n",
    "\n",
    "mod_cols = [\n",
    "    'Battery',\n",
    "    'ROM/Storage',\n",
    "    'RAM'\n",
    "]\n",
    "mode_imputer = SimpleImputer(strategy='most_frequent')\n",
    "dataset[mod_cols] = mode_imputer.fit_transform(dataset[mod_cols])\n",
    "\n",
    "zero_cols = [\n",
    "    'Back/Rare Camera',\n",
    "    'Front Camera'\n",
    "]\n",
    "dataset[zero_cols] = dataset[zero_cols].fillna(0)\n",
    "\n",
    "dataset['Battery'] = dataset['Battery'].astype(int)\n",
    "dataset['Front Camera'] = dataset['Front Camera'].astype(int)\n",
    "dataset['Back/Rare Camera'] = dataset['Back/Rare Camera'].astype(int)\n",
    "dataset['ROM/Storage'] = dataset['ROM/Storage'].astype(int)\n",
    "dataset['RAM'] = dataset['RAM'].astype(int)\n",
    "dataset['Number of Ratings'] = dataset['Number of Ratings'].astype('category').cat.codes"
   ]
  },
  {
   "cell_type": "code",
   "execution_count": 13,
   "id": "b731b42a",
   "metadata": {
    "execution": {
     "iopub.execute_input": "2023-09-10T17:27:30.076667Z",
     "iopub.status.busy": "2023-09-10T17:27:30.076224Z",
     "iopub.status.idle": "2023-09-10T17:27:30.090679Z",
     "shell.execute_reply": "2023-09-10T17:27:30.089616Z"
    },
    "papermill": {
     "duration": 0.028139,
     "end_time": "2023-09-10T17:27:30.093033",
     "exception": false,
     "start_time": "2023-09-10T17:27:30.064894",
     "status": "completed"
    },
    "tags": []
   },
   "outputs": [
    {
     "data": {
      "text/html": [
       "<div>\n",
       "<style scoped>\n",
       "    .dataframe tbody tr th:only-of-type {\n",
       "        vertical-align: middle;\n",
       "    }\n",
       "\n",
       "    .dataframe tbody tr th {\n",
       "        vertical-align: top;\n",
       "    }\n",
       "\n",
       "    .dataframe thead th {\n",
       "        text-align: right;\n",
       "    }\n",
       "</style>\n",
       "<table border=\"1\" class=\"dataframe\">\n",
       "  <thead>\n",
       "    <tr style=\"text-align: right;\">\n",
       "      <th></th>\n",
       "      <th>Rating ?/5</th>\n",
       "      <th>Number of Ratings</th>\n",
       "      <th>RAM</th>\n",
       "      <th>ROM/Storage</th>\n",
       "      <th>Back/Rare Camera</th>\n",
       "      <th>Front Camera</th>\n",
       "      <th>Battery</th>\n",
       "      <th>Price in INR</th>\n",
       "    </tr>\n",
       "  </thead>\n",
       "  <tbody>\n",
       "    <tr>\n",
       "      <th>0</th>\n",
       "      <td>4.2</td>\n",
       "      <td>535</td>\n",
       "      <td>2048</td>\n",
       "      <td>33554432</td>\n",
       "      <td>8</td>\n",
       "      <td>5</td>\n",
       "      <td>5000</td>\n",
       "      <td>5649</td>\n",
       "    </tr>\n",
       "    <tr>\n",
       "      <th>1</th>\n",
       "      <td>4.2</td>\n",
       "      <td>614</td>\n",
       "      <td>4096</td>\n",
       "      <td>67108864</td>\n",
       "      <td>50</td>\n",
       "      <td>8</td>\n",
       "      <td>5000</td>\n",
       "      <td>11999</td>\n",
       "    </tr>\n",
       "    <tr>\n",
       "      <th>2</th>\n",
       "      <td>4.3</td>\n",
       "      <td>442</td>\n",
       "      <td>4096</td>\n",
       "      <td>67108864</td>\n",
       "      <td>8</td>\n",
       "      <td>5</td>\n",
       "      <td>5000</td>\n",
       "      <td>6999</td>\n",
       "    </tr>\n",
       "    <tr>\n",
       "      <th>3</th>\n",
       "      <td>4.2</td>\n",
       "      <td>491</td>\n",
       "      <td>4096</td>\n",
       "      <td>67108864</td>\n",
       "      <td>50</td>\n",
       "      <td>5</td>\n",
       "      <td>5000</td>\n",
       "      <td>7749</td>\n",
       "    </tr>\n",
       "    <tr>\n",
       "      <th>4</th>\n",
       "      <td>4.3</td>\n",
       "      <td>442</td>\n",
       "      <td>4096</td>\n",
       "      <td>67108864</td>\n",
       "      <td>8</td>\n",
       "      <td>5</td>\n",
       "      <td>5000</td>\n",
       "      <td>6999</td>\n",
       "    </tr>\n",
       "  </tbody>\n",
       "</table>\n",
       "</div>"
      ],
      "text/plain": [
       "   Rating ?/5  Number of Ratings   RAM  ROM/Storage  Back/Rare Camera  \\\n",
       "0         4.2                535  2048     33554432                 8   \n",
       "1         4.2                614  4096     67108864                50   \n",
       "2         4.3                442  4096     67108864                 8   \n",
       "3         4.2                491  4096     67108864                50   \n",
       "4         4.3                442  4096     67108864                 8   \n",
       "\n",
       "   Front Camera  Battery  Price in INR  \n",
       "0             5     5000          5649  \n",
       "1             8     5000         11999  \n",
       "2             5     5000          6999  \n",
       "3             5     5000          7749  \n",
       "4             5     5000          6999  "
      ]
     },
     "execution_count": 13,
     "metadata": {},
     "output_type": "execute_result"
    }
   ],
   "source": [
    "dataset.head()"
   ]
  },
  {
   "cell_type": "code",
   "execution_count": 14,
   "id": "92f4755b",
   "metadata": {
    "execution": {
     "iopub.execute_input": "2023-09-10T17:27:30.115318Z",
     "iopub.status.busy": "2023-09-10T17:27:30.114429Z",
     "iopub.status.idle": "2023-09-10T17:27:30.122470Z",
     "shell.execute_reply": "2023-09-10T17:27:30.121442Z"
    },
    "papermill": {
     "duration": 0.021794,
     "end_time": "2023-09-10T17:27:30.124977",
     "exception": false,
     "start_time": "2023-09-10T17:27:30.103183",
     "status": "completed"
    },
    "tags": []
   },
   "outputs": [
    {
     "data": {
      "text/plain": [
       "Rating ?/5           float64\n",
       "Number of Ratings      int16\n",
       "RAM                    int64\n",
       "ROM/Storage            int64\n",
       "Back/Rare Camera       int64\n",
       "Front Camera           int64\n",
       "Battery                int64\n",
       "Price in INR           int64\n",
       "dtype: object"
      ]
     },
     "execution_count": 14,
     "metadata": {},
     "output_type": "execute_result"
    }
   ],
   "source": [
    "dataset.dtypes"
   ]
  },
  {
   "cell_type": "code",
   "execution_count": 15,
   "id": "3058713b",
   "metadata": {
    "execution": {
     "iopub.execute_input": "2023-09-10T17:27:30.146827Z",
     "iopub.status.busy": "2023-09-10T17:27:30.146386Z",
     "iopub.status.idle": "2023-09-10T17:27:30.194752Z",
     "shell.execute_reply": "2023-09-10T17:27:30.193476Z"
    },
    "papermill": {
     "duration": 0.062621,
     "end_time": "2023-09-10T17:27:30.197633",
     "exception": false,
     "start_time": "2023-09-10T17:27:30.135012",
     "status": "completed"
    },
    "tags": []
   },
   "outputs": [],
   "source": [
    "from sklearn.preprocessing import MinMaxScaler\n",
    "from sklearn.linear_model import LinearRegression\n",
    "from sklearn.model_selection import train_test_split\n",
    "from sklearn.pipeline import make_pipeline\n",
    "\n",
    "Y = dataset['Price in INR']\n",
    "X = dataset.drop('Price in INR', axis=1)\n",
    "\n",
    "X_train, X_test, Y_train, Y_test = train_test_split(X, Y, train_size=0.5)\n",
    "\n",
    "cls = make_pipeline(\n",
    "    MinMaxScaler(),\n",
    "    LinearRegression()\n",
    ")\n",
    "\n",
    "cls = cls.fit(X_train.to_numpy(), Y_train)\n",
    "y_train_preds = cls.predict(X_train.to_numpy())\n",
    "\n",
    "y_test_preds = cls.predict(X_test.to_numpy())"
   ]
  },
  {
   "cell_type": "code",
   "execution_count": 16,
   "id": "df6b04e2",
   "metadata": {
    "execution": {
     "iopub.execute_input": "2023-09-10T17:27:30.219635Z",
     "iopub.status.busy": "2023-09-10T17:27:30.219223Z",
     "iopub.status.idle": "2023-09-10T17:27:30.230003Z",
     "shell.execute_reply": "2023-09-10T17:27:30.228979Z"
    },
    "papermill": {
     "duration": 0.02467,
     "end_time": "2023-09-10T17:27:30.232425",
     "exception": false,
     "start_time": "2023-09-10T17:27:30.207755",
     "status": "completed"
    },
    "tags": []
   },
   "outputs": [
    {
     "data": {
      "text/html": [
       "<div>\n",
       "<style scoped>\n",
       "    .dataframe tbody tr th:only-of-type {\n",
       "        vertical-align: middle;\n",
       "    }\n",
       "\n",
       "    .dataframe tbody tr th {\n",
       "        vertical-align: top;\n",
       "    }\n",
       "\n",
       "    .dataframe thead th {\n",
       "        text-align: right;\n",
       "    }\n",
       "</style>\n",
       "<table border=\"1\" class=\"dataframe\">\n",
       "  <thead>\n",
       "    <tr style=\"text-align: right;\">\n",
       "      <th></th>\n",
       "      <th>pred</th>\n",
       "      <th>real</th>\n",
       "    </tr>\n",
       "  </thead>\n",
       "  <tbody>\n",
       "    <tr>\n",
       "      <th>0</th>\n",
       "      <td>8999</td>\n",
       "      <td>6021</td>\n",
       "    </tr>\n",
       "    <tr>\n",
       "      <th>1</th>\n",
       "      <td>15999</td>\n",
       "      <td>20932</td>\n",
       "    </tr>\n",
       "    <tr>\n",
       "      <th>2</th>\n",
       "      <td>11999</td>\n",
       "      <td>16037</td>\n",
       "    </tr>\n",
       "    <tr>\n",
       "      <th>3</th>\n",
       "      <td>10499</td>\n",
       "      <td>7320</td>\n",
       "    </tr>\n",
       "    <tr>\n",
       "      <th>4</th>\n",
       "      <td>7999</td>\n",
       "      <td>16035</td>\n",
       "    </tr>\n",
       "  </tbody>\n",
       "</table>\n",
       "</div>"
      ],
      "text/plain": [
       "    pred   real\n",
       "0   8999   6021\n",
       "1  15999  20932\n",
       "2  11999  16037\n",
       "3  10499   7320\n",
       "4   7999  16035"
      ]
     },
     "execution_count": 16,
     "metadata": {},
     "output_type": "execute_result"
    }
   ],
   "source": [
    "train_predict_result = pd.DataFrame({\n",
    "    'pred': Y_train.to_numpy(),\n",
    "    'real': y_train_preds.astype(int)\n",
    "})\n",
    "\n",
    "train_predict_result.head()"
   ]
  },
  {
   "cell_type": "code",
   "execution_count": 17,
   "id": "75bb89cb",
   "metadata": {
    "execution": {
     "iopub.execute_input": "2023-09-10T17:27:30.255129Z",
     "iopub.status.busy": "2023-09-10T17:27:30.254465Z",
     "iopub.status.idle": "2023-09-10T17:27:30.265135Z",
     "shell.execute_reply": "2023-09-10T17:27:30.264297Z"
    },
    "papermill": {
     "duration": 0.024398,
     "end_time": "2023-09-10T17:27:30.267208",
     "exception": false,
     "start_time": "2023-09-10T17:27:30.242810",
     "status": "completed"
    },
    "tags": []
   },
   "outputs": [
    {
     "data": {
      "text/html": [
       "<div>\n",
       "<style scoped>\n",
       "    .dataframe tbody tr th:only-of-type {\n",
       "        vertical-align: middle;\n",
       "    }\n",
       "\n",
       "    .dataframe tbody tr th {\n",
       "        vertical-align: top;\n",
       "    }\n",
       "\n",
       "    .dataframe thead th {\n",
       "        text-align: right;\n",
       "    }\n",
       "</style>\n",
       "<table border=\"1\" class=\"dataframe\">\n",
       "  <thead>\n",
       "    <tr style=\"text-align: right;\">\n",
       "      <th></th>\n",
       "      <th>pred</th>\n",
       "      <th>real</th>\n",
       "    </tr>\n",
       "  </thead>\n",
       "  <tbody>\n",
       "    <tr>\n",
       "      <th>0</th>\n",
       "      <td>44990</td>\n",
       "      <td>29150</td>\n",
       "    </tr>\n",
       "    <tr>\n",
       "      <th>1</th>\n",
       "      <td>1549</td>\n",
       "      <td>10182</td>\n",
       "    </tr>\n",
       "    <tr>\n",
       "      <th>2</th>\n",
       "      <td>2499</td>\n",
       "      <td>22119</td>\n",
       "    </tr>\n",
       "    <tr>\n",
       "      <th>3</th>\n",
       "      <td>64990</td>\n",
       "      <td>44803</td>\n",
       "    </tr>\n",
       "    <tr>\n",
       "      <th>4</th>\n",
       "      <td>33999</td>\n",
       "      <td>37281</td>\n",
       "    </tr>\n",
       "  </tbody>\n",
       "</table>\n",
       "</div>"
      ],
      "text/plain": [
       "    pred   real\n",
       "0  44990  29150\n",
       "1   1549  10182\n",
       "2   2499  22119\n",
       "3  64990  44803\n",
       "4  33999  37281"
      ]
     },
     "execution_count": 17,
     "metadata": {},
     "output_type": "execute_result"
    }
   ],
   "source": [
    "test_predict_result = pd.DataFrame({\n",
    "    'pred': Y_test.to_numpy(),\n",
    "    'real': y_test_preds.astype(int)\n",
    "})\n",
    "\n",
    "test_predict_result.head()"
   ]
  },
  {
   "cell_type": "code",
   "execution_count": 18,
   "id": "720e18da",
   "metadata": {
    "execution": {
     "iopub.execute_input": "2023-09-10T17:27:30.290832Z",
     "iopub.status.busy": "2023-09-10T17:27:30.289846Z",
     "iopub.status.idle": "2023-09-10T17:27:30.298299Z",
     "shell.execute_reply": "2023-09-10T17:27:30.297174Z"
    },
    "papermill": {
     "duration": 0.022626,
     "end_time": "2023-09-10T17:27:30.300453",
     "exception": false,
     "start_time": "2023-09-10T17:27:30.277827",
     "status": "completed"
    },
    "tags": []
   },
   "outputs": [
    {
     "name": "stdout",
     "output_type": "stream",
     "text": [
      "Train dataset:\n",
      "MAE: 7239.4354479013555\n",
      "R^2: 0.6612963186905347\n"
     ]
    }
   ],
   "source": [
    "from sklearn.metrics import mean_absolute_error, r2_score\n",
    "\n",
    "print('Train dataset:')\n",
    "\n",
    "print(f'MAE: {mean_absolute_error(y_train_preds, Y_train)}')\n",
    "print(f'R^2: {r2_score(y_train_preds, Y_train)}')"
   ]
  },
  {
   "cell_type": "code",
   "execution_count": 19,
   "id": "7c29019d",
   "metadata": {
    "execution": {
     "iopub.execute_input": "2023-09-10T17:27:30.325210Z",
     "iopub.status.busy": "2023-09-10T17:27:30.324768Z",
     "iopub.status.idle": "2023-09-10T17:27:30.332987Z",
     "shell.execute_reply": "2023-09-10T17:27:30.331817Z"
    },
    "papermill": {
     "duration": 0.023681,
     "end_time": "2023-09-10T17:27:30.335050",
     "exception": false,
     "start_time": "2023-09-10T17:27:30.311369",
     "status": "completed"
    },
    "tags": []
   },
   "outputs": [
    {
     "name": "stdout",
     "output_type": "stream",
     "text": [
      "Test dataset:\n",
      "MAE: 8320.259301722697\n",
      "R^2: 0.5642745858620253\n"
     ]
    }
   ],
   "source": [
    "print('Test dataset:')\n",
    "\n",
    "print(f'MAE: {mean_absolute_error(y_test_preds, Y_test)}')\n",
    "print(f'R^2: {r2_score(y_test_preds, Y_test)}')"
   ]
  }
 ],
 "kernelspec": {
  "display_name": "Python 3",
  "language": "python",
  "name": "python3"
 },
 "language_info": {
  "codemirror_mode": {
   "name": "ipython",
   "version": 3
  },
  "file_extension": ".py",
  "mimetype": "text/x-python",
  "name": "python",
  "nbconvert_exporter": "python",
  "pygments_lexer": "ipython3",
  "version": "3.6.4"
 },
 "metadata": {
  "kernelspec": {
   "display_name": "Python 3",
   "language": "python",
   "name": "python3"
  },
  "language_info": {
   "codemirror_mode": {
    "name": "ipython",
    "version": 3
   },
   "file_extension": ".py",
   "mimetype": "text/x-python",
   "name": "python",
   "nbconvert_exporter": "python",
   "pygments_lexer": "ipython3",
   "version": "3.10.12"
  },
  "papermill": {
   "default_parameters": {},
   "duration": 6.958988,
   "end_time": "2023-09-10T17:27:30.866324",
   "environment_variables": {},
   "exception": null,
   "input_path": "__notebook__.ipynb",
   "output_path": "__notebook__.ipynb",
   "parameters": {},
   "start_time": "2023-09-10T17:27:23.907336",
   "version": "2.4.0"
  }
 },
 "nbformat": 4,
 "nbformat_minor": 5
}
